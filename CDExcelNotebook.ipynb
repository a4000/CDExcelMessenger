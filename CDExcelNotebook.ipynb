{
 "cells": [
  {
   "cell_type": "markdown",
   "id": "789abe42",
   "metadata": {},
   "source": [
    "CDExcelMessenger\n",
    "\n",
    "First import CDExcelMessenger and set the 'cdResultsFilePath' and 'excelFilePath' variables to the paths of your CD Results file and Excel file. Alternatively, you can set those variables to the names of the files if the files are in your current working directory.\n",
    "\n",
    "CDExcelMessenger is the python module that contains the functions that allow you to pass data between an Excel file and a Compound Discoverer (CD) Results file."
   ]
  },
  {
   "cell_type": "code",
   "execution_count": 1,
   "id": "9c587258-4ee7-4f2a-a306-e9cb0da4c47a",
   "metadata": {},
   "outputs": [],
   "source": [
    "import CDExcelMessenger\n",
    "\n",
    "# Use os.chdir() if you would like to change the current working directory.\n",
    "#import os\n",
    "#os.chdir('C:/Users/CIMCB/Desktop')\n",
    "#print(os.getcwd())\n",
    "\n",
    "# Set these variables to the paths of the CD Results file and the Excel file.\n",
    "# You can set the variables to the file names if they are in the current working directory.\n",
    "cdResultsFilePath = \"C:/Users/CIMCB/Desktop/data.cdResult\"\n",
    "excelFilePath = \"C:/Users/CIMCB/Desktop/data.xlsx\""
   ]
  },
  {
   "cell_type": "markdown",
   "id": "b12d52ee",
   "metadata": {},
   "source": [
    "\n",
    "updateDataInCDResultsFile(cdResultsFilePath, excelFilePath)\n",
    "\n",
    "updateDataInCDResultsFile() is the function that allows you to import data from an Excel file into a CD Results file. \n",
    "\n",
    "If you want update all editable columns in the CD Results file, only pass the CD Results file and Excel file paths to updateDataInCDResultsFile(). You can pass the file names instead of the paths if the files are in the current working directory.\n",
    "The editable columns are 'Tags', 'Checked', 'Name', and any new columns that have been added to the CD Results file by CDExcelMessenger."
   ]
  },
  {
   "cell_type": "code",
   "execution_count": 2,
   "id": "fbc7a7bd-d2da-488b-9b33-0dae5722516a",
   "metadata": {
    "scrolled": true,
    "tags": []
   },
   "outputs": [
    {
     "name": "stdout",
     "output_type": "stream",
     "text": [
      "\n",
      "Importing data from data.xlsx into data.cdResult\n",
      "Column: Name found in data.xlsx\n",
      "Column: Tags found in data.xlsx\n",
      "Column: Checked found in data.xlsx\n",
      "data.cdResult updated\n"
     ]
    }
   ],
   "source": [
    "# Use this function to update all editable columns in the CD Results file.\n",
    "CDExcelMessenger.updateDataInCDResultsFile(cdResultsFilePath, excelFilePath)"
   ]
  },
  {
   "cell_type": "markdown",
   "id": "c40c4d34",
   "metadata": {},
   "source": [
    "\n",
    "updateDataInCDResultsFile(cdResultsFilePath, excelFilePath, updateColNameList = colNameList)\n",
    "\n",
    "updateDataInCDResultsFile() also has a third argument (updateColNameList) that accepts a list of strings. If you use this third argument, you can choose the columns that you would like to update in the CD Results file. This can include new columns in the Excel file that you would like to add to the CDResults file. This function still doesn't allow updating non-editable columns so you can't accidentally update certain columns (e.g. Molecular Weight). "
   ]
  },
  {
   "cell_type": "code",
   "execution_count": 3,
   "id": "51466de8-e6f8-449b-99c9-b0779d14714b",
   "metadata": {},
   "outputs": [
    {
     "name": "stdout",
     "output_type": "stream",
     "text": [
      "\n",
      "Importing data from data.xlsx into data.cdResult\n",
      "Column: newColInt added to data.cdResult\n",
      "Column: newColBool added to data.cdResult\n",
      "Column: newColFloat added to data.cdResult\n",
      "Column: newColString added to data.cdResult\n",
      "Column: Checked found in data.xlsx\n",
      "Column: Tags found in data.xlsx\n",
      "Column: newColInt found in data.xlsx\n",
      "Column: newColBool found in data.xlsx\n",
      "Column: newColFloat found in data.xlsx\n",
      "Column: newColString found in data.xlsx\n",
      "data.cdResult updated\n"
     ]
    }
   ],
   "source": [
    "# List of column names in the Excel file that you would like to update/add to the CD Results file.\n",
    "colNameList = [\"Checked\", \"Tags\", \"newColInt\", \"newColBool\", \"newColFloat\", \"newColString\"]\n",
    "\n",
    "# Use this function to update specific editable columns and to add new columns to the CD Results file.\n",
    "CDExcelMessenger.updateDataInCDResultsFile(cdResultsFilePath, excelFilePath, updateColNameList = colNameList)"
   ]
  },
  {
   "cell_type": "markdown",
   "id": "4b41da86",
   "metadata": {},
   "source": [
    "\n",
    "updateDataInExcelFile(cdResultsFilePath, excelFilePath)\n",
    "\n",
    "updateDataInExcelFile() is the function that allows you to import data from a CD Results file into an Excel file. \n",
    "\n",
    "If you want update all editable columns in the CD Results file, only pass the CD Results file and Excel file paths to updateDataInExcelFile(). You can pass the file names instead of the paths if the files are in the current working directory.\n",
    "The editable columns are 'Tags', 'Checked', 'Name', and any new columns that have been added to the CD Results file by CDExcelMessenger."
   ]
  },
  {
   "cell_type": "code",
   "execution_count": 4,
   "id": "9f1aa40c-da38-49af-84a0-f90117a0b9aa",
   "metadata": {},
   "outputs": [
    {
     "name": "stdout",
     "output_type": "stream",
     "text": [
      "\n",
      "Importing data from data.cdResult into data.xlsx\n",
      "Column: Name found in data.xlsx\n",
      "Column: Tags found in data.xlsx\n",
      "Column: Checked found in data.xlsx\n",
      "Column: newColInt found in data.xlsx\n",
      "Column: newColBool found in data.xlsx\n",
      "Column: newColFloat found in data.xlsx\n",
      "Column: newColString found in data.xlsx\n",
      "data.xlsx updated\n"
     ]
    }
   ],
   "source": [
    "# Use this function to update all columns in the Excel file.\n",
    "CDExcelMessenger.updateDataInExcelFile(cdResultsFilePath, excelFilePath)"
   ]
  },
  {
   "cell_type": "markdown",
   "id": "03d6be2e",
   "metadata": {},
   "source": [
    "\n",
    "updateDataInExcelFile(cdResultsFilePath, excelFilePath, updateColNameList = colNameList)\n",
    "\n",
    "updateDataInExcelFile() also has a third argument (updateColNameList) that accepts a list of strings. If you use this third argument, you can choose the columns that you would like to update in the Excel file. This function won't allow updating certain columns (e.g. P-value)"
   ]
  },
  {
   "cell_type": "code",
   "execution_count": 4,
   "id": "cfd59fb5",
   "metadata": {},
   "outputs": [
    {
     "name": "stdout",
     "output_type": "stream",
     "text": [
      "\n",
      "Importing data from data.cdResult into data.xlsx\n",
      "Column: Checked found in data.xlsx\n",
      "Column: Tags found in data.xlsx\n",
      "Column: newColInt found in data.xlsx\n",
      "Column: newColBool found in data.xlsx\n",
      "Column: newColFloat found in data.xlsx\n",
      "Column: newColString found in data.xlsx\n",
      "data.xlsx updated\n"
     ]
    }
   ],
   "source": [
    "# List of column names in the Excel file that you would like to update. \n",
    "colNameList = [\"Checked\", \"Tags\", \"newColInt\", \"newColBool\", \"newColFloat\", \"newColString\"]\n",
    "\n",
    "# Use this function to update specific columns in the Excel file. \n",
    "CDExcelMessenger.updateDataInExcelFile(cdResultsFilePath, excelFilePath, updateColNameList = colNameList)"
   ]
  },
  {
   "cell_type": "code",
   "execution_count": null,
   "id": "849dc3bf",
   "metadata": {},
   "outputs": [],
   "source": []
  }
 ],
 "metadata": {
  "kernelspec": {
   "display_name": "Python 3 (ipykernel)",
   "language": "python",
   "name": "python3"
  },
  "language_info": {
   "codemirror_mode": {
    "name": "ipython",
    "version": 3
   },
   "file_extension": ".py",
   "mimetype": "text/x-python",
   "name": "python",
   "nbconvert_exporter": "python",
   "pygments_lexer": "ipython3",
   "version": "3.9.12"
  }
 },
 "nbformat": 4,
 "nbformat_minor": 5
}
