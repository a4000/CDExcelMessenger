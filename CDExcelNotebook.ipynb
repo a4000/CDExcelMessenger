{
 "cells": [
  {
   "cell_type": "markdown",
   "id": "789abe42",
   "metadata": {},
   "source": [
    "CDExcelMessenger.py\n",
    "\n",
    "CDExcelMessenger.py is the python module that contains the functions that allows you to pass data between an Excel file and a Compound Discoverer (CD) Results file. This module is dependant on Pandas.\n",
    "\n",
    "\n",
    "tidyData() function\n",
    "\n",
    "This function is expecting an Excel file with a \"Compounds\" sheet,\n",
    "a \"Meta\" sheet with the columns - 'Filename', 'SampleType', 'SampleID', 'Order', and 'Batch',\n",
    "a \"Data\" sheet with the columns - 'Idx', 'Filename' and the Transposed Areas (labeled 'M1' - 'Mn'),\n",
    "a \"Peak\" sheet with the columns - 'Idx', 'Name', 'Label' and other columns from the Compounds sheet."
   ]
  },
  {
   "cell_type": "code",
   "execution_count": 1,
   "id": "9c587258-4ee7-4f2a-a306-e9cb0da4c47a",
   "metadata": {},
   "outputs": [
    {
     "name": "stdout",
     "output_type": "stream",
     "text": [
      "C:/Users/CIMCB/Desktop/dataBeforeTidy.xlsx updated\n",
      "\n",
      "Stats:\n",
      "19 peaks with MS2 spectra\n",
      "10 MassList hits\n",
      "19 mzVault hits\n",
      "14 mzCloud hits\n",
      "19 unique hits\n"
     ]
    }
   ],
   "source": [
    "import CDExcelMessenger\n",
    "\n",
    "excelFilePath = \"C:/Users/CIMCB/Desktop/dataBeforeTidy.xlsx\"\n",
    "\n",
    "# Columns to keep and the names you would like to use for those columns\n",
    "# If you put a '<' and '>' around a name, \n",
    "# this function will look for any column that starts with that name.\n",
    "colsToKeepDict = {\n",
    "    \"Idx\": \"Idx\",\n",
    "    \"UID\": \"UID\",\n",
    "    \"Name\": \"Name\",\n",
    "    \"Checked\": \"Checked\",\n",
    "    \"Tags\": \"Tags\",\n",
    "    \"Formula\": \"Formula\",\n",
    "    \"RT [min]\": \"RT\",\n",
    "    \"Calc. MW\": \"MW\", \n",
    "    \"MS2\": \"MS2\",\n",
    "    \"# ChemSpider Results\": \"ChemSpiderRes\",\n",
    "    \"# mzVault Results\": \"MzVaultRes\",\n",
    "    \"# mzCloud Results\": \"MzCloudRes\",\n",
    "    \"mzCloud Best Match\": \"mzCloudMatch\",\n",
    "    \"mzVault Best Match\": \"mzVaultMatch\",\n",
    "    \"<Mass List Match: >\": \"mzList_\"\n",
    "}\n",
    "\n",
    "# Set \"CIMCBlib\" to True if you want to split peak names that start with ECU,\n",
    "# Set \"MSHit\" to True if you want to get the sum of rows that have a MS2 hit \n",
    "# and to create the MS2Hit column.\n",
    "# Set \"mzmatch\" to your chosen mzVault and mzCloud threshold\n",
    "# Set \"UIDPrefix\" to the prefix you would like to have in the UID values\n",
    "optionsDict = {\n",
    "    \"CIMCBlib\": True,\n",
    "    \"MSHit\": True,\n",
    "    \"mzmatch\": 70,\n",
    "    \"UIDPrefix\": \"M\"\n",
    "}\n",
    "\n",
    "CDExcelMessenger.tidyData(excelFilePath, colsToKeepDict, optionsDict)\n"
   ]
  },
  {
   "cell_type": "markdown",
   "id": "c40c4d34",
   "metadata": {},
   "source": [
    "updateCDResultsFile() function\n",
    "\n",
    "updateCDResultsFile() is the function that allows you to import data from an Excel file into a CD Results file. This function can add new columns to the CD compound table, or update certain columns in the CD compound table (Tags, Checked, Name, or any columns already added by this function). If you use this function, a 'Cleaned' column will be added to the CD compound table that flags the rows in the Compound table that were found in the Excel file. If you run this function a second time, 'Cleaned' will be renamed 'OldCleaned', and a new 'Cleaned' column will be added to the CD compound table. If your Excel file doesn't have a 'CD_ID' column, this function will add that column. Keep 'CD_ID' in the Excel file to improve performance the next time you run this function."
   ]
  },
  {
   "cell_type": "code",
   "execution_count": 3,
   "id": "51466de8-e6f8-449b-99c9-b0779d14714b",
   "metadata": {
    "scrolled": true
   },
   "outputs": [
    {
     "name": "stdout",
     "output_type": "stream",
     "text": [
      "\n",
      "Importing data from C:/Users/CIMCB/Desktop/data.xlsx into C:/Users/CIMCB/Desktop/data.cdResult\n",
      "Tag names and visibility updated in C:/Users/CIMCB/Desktop/data.cdResult\n",
      "WARNING: CIMCBlib can't be found in C:/Users/CIMCB/Desktop/data.xlsx\n",
      "WARNING: qcRSD can't be found in C:/Users/CIMCB/Desktop/data.xlsx\n",
      "WARNING: dRatio can't be found in C:/Users/CIMCB/Desktop/data.xlsx\n",
      "WARNING: blankRatio can't be found in C:/Users/CIMCB/Desktop/data.xlsx\n",
      "Column: UID updated\n",
      "Column: Name updated\n",
      "Column: Checked updated\n",
      "Column: Notes updated\n",
      "Column: Tags updated\n",
      "C:/Users/CIMCB/Desktop/data.cdResult updated\n"
     ]
    }
   ],
   "source": [
    "import CDExcelMessenger\n",
    "\n",
    "# Set these variables to the paths of the CD Results file and the Excel file.\n",
    "cdResultsFilePath = \"C:/Users/CIMCB/Desktop/data.cdResult\"\n",
    "excelFilePath = \"C:/Users/CIMCB/Desktop/data.xlsx\"\n",
    "\n",
    "# Set this variable to the name of your Peak sheet in the Excel file\n",
    "peakSheetName = \"Peak\"\n",
    "\n",
    "# List of column names in the Excel file that you would like to update/add to the CD Results file.\n",
    "updateColNameList = [\"UID\", \"CIMCBlib\", \"Name\", \"qcRSD\", \"dRatio\", \"blankRatio\", \"Checked\", \"Notes\"]\n",
    "\n",
    "# If you include \"Tags\" in the tag list, CD will contain the Tags found in the Tags Excel column.\n",
    "# You can use boolean/binary Excel columns as Tags if you inlcude the names of those columns.\n",
    "# Any other names included in the tag list will contain default values.\n",
    "# You can have up to 15 tags\n",
    "tagList = [\"Tags\", \"ms2Hit\", \"goodPeakShape\", \"goodRT\", \"queryMS\", \"msError\", \"aTag\"]\n",
    "\n",
    "# Update the CD results file with Excel data.\n",
    "CDExcelMessenger.updateCDResultsFile(\n",
    "    cdResultsFilePath, \n",
    "    excelFilePath, \n",
    "    peakSheetName, \n",
    "    updateColNameList = updateColNameList, \n",
    "    tagList = tagList\n",
    ")\n",
    "\n",
    "#TO DO: default column (msi)(0-4 values, or null)"
   ]
  },
  {
   "cell_type": "markdown",
   "id": "f89b0bad",
   "metadata": {},
   "source": [
    "updateExcelFile() function\n",
    "\n",
    "updateExcelFile() is the function that allows you to import data from a CD results file into an Excel file. This function doesn't allow you to export certain data from the CD compound table (e.g. Area). If your Excel file doesn't have a 'CD_ID' column, this function will add that column. Keep this column in the Excel file to improve performance the next time you run this function."
   ]
  },
  {
   "cell_type": "code",
   "execution_count": 2,
   "id": "e5281473",
   "metadata": {
    "scrolled": false
   },
   "outputs": [
    {
     "name": "stdout",
     "output_type": "stream",
     "text": [
      "\n",
      "Importing data from C:/Users/CIMCB/Desktop/data.cdResult into C:/Users/CIMCB/Desktop/data.xlsx\n",
      "Column: ms2Hit updated in C:/Users/CIMCB/Desktop/data.xlsx\n",
      "Column: goodPeakShape added to C:/Users/CIMCB/Desktop/data.xlsx\n",
      "Column: goodRT added to C:/Users/CIMCB/Desktop/data.xlsx\n",
      "Column: queryMS added to C:/Users/CIMCB/Desktop/data.xlsx\n",
      "Column: msError added to C:/Users/CIMCB/Desktop/data.xlsx\n",
      "Column: aTag added to C:/Users/CIMCB/Desktop/data.xlsx\n",
      "Column: Checked updated in C:/Users/CIMCB/Desktop/data.xlsx\n",
      "Column: Tags updated in C:/Users/CIMCB/Desktop/data.xlsx\n",
      "Column: Notes added to C:/Users/CIMCB/Desktop/data.xlsx\n",
      "Dropped rows that were Checked\n",
      "C:/Users/CIMCB/Desktop/data.xlsx updated\n"
     ]
    }
   ],
   "source": [
    "import CDExcelMessenger\n",
    "\n",
    "# Set these variables to the paths of the CD Results file and the Excel file.\n",
    "cdResultsFilePath = \"C:/Users/CIMCB/Desktop/data.cdResult\"\n",
    "excelFilePath = \"C:/Users/CIMCB/Desktop/data.xlsx\"\n",
    "\n",
    "# Set this variable to the name of your Peak sheet in the Excel file\n",
    "peakSheetName = \"Peak\"\n",
    "\n",
    "# List of columns in the Excel file that you would like to update. \n",
    "updateColNameList = [\"Checked\", \"Tags\", \"Notes\"]\n",
    "\n",
    "# Set this value to True if you want to remove rows from the Excel file \n",
    "# that have been checked in CD\n",
    "removeCheckedRows = True\n",
    "\n",
    "# Update the Excel file with CD compound data \n",
    "CDExcelMessenger.updateExcelFile(\n",
    "    cdResultsFilePath, \n",
    "    excelFilePath, \n",
    "    peakSheetName, \n",
    "    updateColNameList = updateColNameList,\n",
    "    removeCheckedRows = removeCheckedRows\n",
    ")\n",
    "\n",
    "#TO DO: create msi 0-4"
   ]
  },
  {
   "cell_type": "code",
   "execution_count": null,
   "id": "63959cc0",
   "metadata": {},
   "outputs": [],
   "source": []
  }
 ],
 "metadata": {
  "kernelspec": {
   "display_name": "Python 3 (ipykernel)",
   "language": "python",
   "name": "python3"
  },
  "language_info": {
   "codemirror_mode": {
    "name": "ipython",
    "version": 3
   },
   "file_extension": ".py",
   "mimetype": "text/x-python",
   "name": "python",
   "nbconvert_exporter": "python",
   "pygments_lexer": "ipython3",
   "version": "3.9.12"
  }
 },
 "nbformat": 4,
 "nbformat_minor": 5
}
