{
 "cells": [
  {
   "cell_type": "markdown",
   "id": "789abe42",
   "metadata": {},
   "source": [
    "CDExcelMessenger.py\n",
    "\n",
    "CDExcelMessenger.py is the python module that contains the functions that allow you to pass data between an Excel file and a Compound Discoverer (CD) Results file. This module is dependant on Pandas.\n",
    "\n",
    "First import CDExcelMessenger and set the 'cdResultsFilePath' and 'excelFilePath' variables to the paths of your CD Results file and Excel file. Also set 'excelSheetName' to the name of your Excel sheet that contains the Compound table that you have exported from CD. "
   ]
  },
  {
   "cell_type": "code",
   "execution_count": null,
   "id": "9c587258-4ee7-4f2a-a306-e9cb0da4c47a",
   "metadata": {},
   "outputs": [],
   "source": [
    "import CDExcelMessenger\n",
    "\n",
    "# Set these variables to the paths of the CD Results file and the Excel file.\n",
    "cdResultsFilePath = \"C:/Users/CIMCB/Desktop/data.cdResult\"\n",
    "excelFilePath = \"C:/Users/CIMCB/Desktop/data.xlsx\"\n",
    "\n",
    "# Set this variable to the name of your compound table sheet in the Excel file\n",
    "excelSheetName = \"Peak\""
   ]
  },
  {
   "cell_type": "markdown",
   "id": "c40c4d34",
   "metadata": {},
   "source": [
    "updateDataInCDResultsFile(cdResultsFilePath, excelFilePath, excelSheetName, updateColNameList = None, optionalTagDict = None, tagVisability = None, verbose = True)\n",
    "\n",
    "updateDataInCDResultsFile() is the function that allows you to import data from an Excel file into a CD Results file. This function can add new columns to the CD compound table, or update certain columns in the CD compound table (Tags, Checked, Name, or any columns already added by this function). If you use this function, a 'Cleaned' column will be added to the CD compound table that flags the rows in the Compound table that were found in the Excel file. If you run this function a second time, 'Cleaned' will be renamed 'OldCleaned', and a new 'Cleaned' column will be added to the CD compound table. If your Excel file doesn't have a 'CompDiscID' column, this function will add that column. Keep this column in the Excel file to improve performance the next time you run this function.\n",
    "\n",
    "This function has four optional arguments ('updateColNameList', 'optionalTagDict', 'tagVisability', and 'verbose').\n",
    "\n",
    "'updateColNameList' should be a list of strings. Those strings should be columns in your Excel file that you would like to add/update in the CD compound table. You can only update certain columns (Tags, Checked, Name, or any columns already added by this function). If you don't pass this argument, the function will automatically update those columns. \n",
    "\n",
    "'optionalTagDict' should be a dictionary. The keys of the dictionary should be columns in your Excel file that you would like to use as Tags in the CD compound table. Make sure your columns are boolean, integer, or float columns. The values of the dictionary should be thresholds for checking the tags in the CD compound table (e.g. True for boolean columns or 70 for integer columns). If you use the 'optionalTagDict' argument, remember to include Tags in the 'updateColNameList' argument. If you don't include the 'optionalTagDict' argument, you can still update the tags in CD by using putting strings in the Excel file Tags column that are formatted \"TagNameA;TagNameB\".\n",
    "\n",
    "If you use the 'optionalTagDict' argument, you can also include the 'tagVisability' argument. This value should be an integer, between 0-15, that sets the number of tags in the CD compound table that you would like to be visable. If you don't include this argument, the tag visability will automatically be set based on the number of Excel columns that get used to set the tags in the CD compound table. \n",
    "\n",
    "If 'verbose' is left as True, then messages will be printed to the console. If 'verbose' is set to False, then the function will return a list of messages. "
   ]
  },
  {
   "cell_type": "code",
   "execution_count": null,
   "id": "51466de8-e6f8-449b-99c9-b0779d14714b",
   "metadata": {},
   "outputs": [],
   "source": [
    "# List of column names in the Excel file that you would like to update/add to the CD Results file.\n",
    "colNameList = [\"Checked\", \"Tags\", \"newCol1\", \"newCol2\", \"newCol3\", \"newCol4\"]\n",
    "\n",
    "# Dictionary of columns in the Excel file that you would like to use as the Tags in CD \n",
    "# The dictionary keys should be the names of Excel file columns, and the values are your chosen thresholds for those tags\n",
    "tagDict = {\n",
    "    \"newColBool1\": True,\n",
    "    \"newColBool2\": True,\n",
    "    \"newColInt\": 70,\n",
    "    \"newColFloat\": 70.0\n",
    "}\n",
    "\n",
    "# How many tags you would like to be visable in CD\n",
    "tagVis = 6\n",
    "\n",
    "# Update the CD results file with Excel data.\n",
    "CDExcelMessenger.updateDataInCDResultsFile(\n",
    "    cdResultsFilePath, \n",
    "    excelFilePath, \n",
    "    excelSheetName, \n",
    "    updateColNameList = colNameList, \n",
    "    optionalTagDict = tagDict, \n",
    "    tagVisability = tagVis\n",
    ")"
   ]
  },
  {
   "cell_type": "markdown",
   "id": "f89b0bad",
   "metadata": {},
   "source": [
    "updateDataInExcelFile(cdResultsFilePath, excelFilePath, excelSheetName, updateColNameList = None, optionalTagList = None, verbose = True)\n",
    "\n",
    "updateDataInExcelFile() is the function that allows you to import data from a CD results file into an Excel file. This function doesn't allow you to export certain data from the CD compound table (e.g. Area). If your Excel file doesn't have a 'CompDiscID' column, this function will add that column. Keep this column in the Excel file to improve performance the next time you run this function.\n",
    "\n",
    "This function has two optional arguments ('updateColNameList', and 'optionalTagList').\n",
    "\n",
    "'updateColNameList' should be a list of strings. Those strings should be columns in your Excel file that you would like to update with data from the CD compound table. This argument still doesn't allow you to export certain data from the CD compound table (e.g. Area). If you don't pass this argument, the function will automatically update certain columns (Tags, Checked, Name, or any columns already added by this function). \n",
    "\n",
    "'optionalTagList' should be a list of strings. Those strings should be boolean columns in your Excel file that you would like to update with data from the Tags column in the CD compound table.\n",
    "\n",
    "If you use the 'optionalTagList' argument, remember to include Tags in the 'updateColNameList' argument. If you don't include the 'optionalTagDict' argument, you can still update the Tags column in the Excel file. The Tags columns will be updated with strings in the format \"TagNameA;TagNameB\"."
   ]
  },
  {
   "cell_type": "code",
   "execution_count": null,
   "id": "e5281473",
   "metadata": {},
   "outputs": [],
   "source": [
    "# List of column names in the Excel file that you would like to update. \n",
    "colNameList = [\"Checked\", \"Tags\", \"newCol1\", \"newCol2\", \"newCol3\", \"newCol4\"]\n",
    "\n",
    "# List of boolean (TRUE/FALSE values) columns in the Excel file that are Tags in the CD results file \n",
    "tagList = [\"newColBool1\", \"newColBool2\"]\n",
    "\n",
    "# Update the Excel file with CD compound data \n",
    "CDExcelMessenger.updateDataInExcelFile(cdResultsFilePath, excelFilePath, excelSheetName, updateColNameList = colNameList, optionalTagList = tagList)"
   ]
  }
 ],
 "metadata": {
  "kernelspec": {
   "display_name": "Python 3 (ipykernel)",
   "language": "python",
   "name": "python3"
  },
  "language_info": {
   "codemirror_mode": {
    "name": "ipython",
    "version": 3
   },
   "file_extension": ".py",
   "mimetype": "text/x-python",
   "name": "python",
   "nbconvert_exporter": "python",
   "pygments_lexer": "ipython3",
   "version": "3.9.12"
  }
 },
 "nbformat": 4,
 "nbformat_minor": 5
}
