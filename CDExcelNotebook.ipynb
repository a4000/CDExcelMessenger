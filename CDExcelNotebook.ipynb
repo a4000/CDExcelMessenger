{
 "cells": [
  {
   "cell_type": "markdown",
   "id": "789abe42",
   "metadata": {},
   "source": [
    "CDExcelMessenger.py\n",
    "\n",
    "CDExcelMessenger.py is the python module that contains the functions that allows you to pass data between an Excel file and a Compound Discoverer (CD) Results file. This module is dependant on Pandas. The Python code was written with Python 3.9.12.\n",
    "\n",
    "\n",
    "tidyData() function\n",
    "\n",
    "This function is expecting an Excel file with a \"Compounds\" sheet,\n",
    "and a \"Meta\" sheet with the columns - 'Filename', 'SampleType', 'SampleID', 'Order', and 'Batch'.\n",
    "\n",
    "This function will convert the Compounds table and Meta table into the TidyData format with a Data sheet and a Peak sheet."
   ]
  },
  {
   "cell_type": "code",
   "execution_count": null,
   "id": "9c587258-4ee7-4f2a-a306-e9cb0da4c47a",
   "metadata": {},
   "outputs": [],
   "source": [
    "import CDExcelMessenger\n",
    "\n",
    "# Set this variable to the path of your excel file\n",
    "excelFilePath = \"C:/Users/CIMCB/Desktop/dataBeforeTidy.xlsx\"\n",
    "\n",
    "# Columns to keep and the names you would like to use for those columns\n",
    "# If you put a '<' and '>' around a name, \n",
    "# this function will look for any column that starts with that name.\n",
    "colsToKeepDict = {\n",
    "    \"Idx\": \"Idx\",\n",
    "    \"UID\": \"UID\",\n",
    "    \"Name\": \"Name\",\n",
    "    \"Checked\": \"Checked\",\n",
    "    \"Tags\": \"Tags\",\n",
    "    \"Formula\": \"Formula\",\n",
    "    \"RT [min]\": \"RT\",\n",
    "    \"Calc. MW\": \"MW\", \n",
    "    \"MS2\": \"MS2\",\n",
    "    \"# ChemSpider Results\": \"ChemSpiderRes\",\n",
    "    \"# mzVault Results\": \"MzVaultRes\",\n",
    "    \"# mzCloud Results\": \"MzCloudRes\",\n",
    "    \"mzCloud Best Match\": \"mzCloudMatch\",\n",
    "    \"mzVault Best Match\": \"mzVaultMatch\",\n",
    "    \"<Mass List Match: >\": \"mzList_\"\n",
    "}\n",
    "\n",
    "# Set \"CIMCBlib\" to True if you want to split peak names that start with ECU into two columns,\n",
    "# Set \"MSHit\" to True if you want to get the sum of rows that have a MS2 hit \n",
    "# and to create the MS2Hit column.\n",
    "# Set \"mzmatch\" to your chosen mzVault and mzCloud threshold\n",
    "# Set \"UIDPrefix\" to the prefix you would like to have in the UID values\n",
    "optionsDict = {\n",
    "    \"CIMCBlib\": True,\n",
    "    \"MSHit\": True,\n",
    "    \"mzmatch\": 70,\n",
    "    \"UIDPrefix\": \"M\"\n",
    "}\n",
    "\n",
    "CDExcelMessenger.tidyData(excelFilePath, colsToKeepDict, optionsDict)\n"
   ]
  },
  {
   "cell_type": "markdown",
   "id": "c40c4d34",
   "metadata": {},
   "source": [
    "updateCDResultsFile() function\n",
    "\n",
    "updateCDResultsFile() is the function that allows you to import data from an Excel file into a CD Results file. This function can add new columns to the CD compound table, or update certain columns in the CD compound table (Tags, Checked, Name, or any columns already added by this function). A 'Cleaned' column will be added to the CD compound table that flags the rows in the Compound table that were found in the Excel file. An editible column called 'Notes' will be added to CD by default. A non-editible column called 'originalName' will be added to CD that contains the same data as the Name column. This will allow you to update the Name column while keeping the original Name data. This function also gives you the option of updating the Tag names and values in CD if you use 'tagList'. An MSI column will be added to the CD Results file based on whether or not certain Tags are checked.. If your Excel file doesn't have a 'compoundID' column, this function will add that column (make sure you don't use compoundID for something else). Keep 'compoundID' in the Excel file to improve performance the next time you run this function.\n",
    "\n"
   ]
  },
  {
   "cell_type": "code",
   "execution_count": 2,
   "id": "51466de8-e6f8-449b-99c9-b0779d14714b",
   "metadata": {
    "scrolled": true
   },
   "outputs": [
    {
     "name": "stdout",
     "output_type": "stream",
     "text": [
      "\n",
      "Importing data from C:/Users/CIMCB/Desktop/data.xlsx into C:/Users/CIMCB/Desktop/data.cdResult\n",
      "Tag names and visibility updated in C:/Users/CIMCB/Desktop/data.cdResult\n",
      "WARNING: CIMCBlib can't be found in C:/Users/CIMCB/Desktop/data.xlsx\n",
      "WARNING: qcRSD can't be found in C:/Users/CIMCB/Desktop/data.xlsx\n",
      "WARNING: dRatio can't be found in C:/Users/CIMCB/Desktop/data.xlsx\n",
      "WARNING: blankRatio can't be found in C:/Users/CIMCB/Desktop/data.xlsx\n",
      "WARNING: Notes can't be found in C:/Users/CIMCB/Desktop/data.xlsx\n",
      "Column: Cleaned added to C:/Users/CIMCB/Desktop/data.cdResult\n",
      "Column: originalName added to C:/Users/CIMCB/Desktop/data.cdResult\n",
      "Column: MSI added to C:/Users/CIMCB/Desktop/data.cdResult\n",
      "Column: UID added to C:/Users/CIMCB/Desktop/data.cdResult\n",
      "Column: UID updated\n",
      "Column: Name updated\n",
      "Column: Checked updated\n",
      "Column: Notes added to C:/Users/CIMCB/Desktop/data.cdResult\n",
      "Column: Notes updated\n",
      "Column: Tags updated\n",
      "C:/Users/CIMCB/Desktop/data.cdResult updated\n"
     ]
    }
   ],
   "source": [
    "import CDExcelMessenger\n",
    "\n",
    "# Set these variables to the paths of the CD Results file and the Excel file.\n",
    "cdResultsFilePath = \"C:/Users/CIMCB/Desktop/data.cdResult\"\n",
    "excelFilePath = \"C:/Users/CIMCB/Desktop/data.xlsx\"\n",
    "\n",
    "# Set this variable to the name of your Peak sheet in the Excel file\n",
    "peakSheetName = \"Peak\"\n",
    "\n",
    "# List of column names in the Excel file that you would like to update/add to the CD Results file.\n",
    "excelColList = [\"UID\", \"CIMCBlib\", \"Name\", \"qcRSD\", \"dRatio\", \"blankRatio\", \"Notes\", \"Checked\"]\n",
    "\n",
    "# If you include \"Tags\" in the tag list, \n",
    "# CD will contain the Tags found in the Tags Excel column (; should be the delimiter).\n",
    "# You can use boolean/binary Excel columns as Tags if you inlcude the names of those columns.\n",
    "# Any other names included in the tag list will still be added to the CD Tags.\n",
    "# You can have up to 15 tags.\n",
    "tagList = [\"ms2Hit\", \"goodPeakShape\", \"goodRT\", \"queryMS\", \"msError\"]\n",
    "\n",
    "# Update the CD results file with Excel data.\n",
    "CDExcelMessenger.updateCDResultsFile(\n",
    "    cdResultsFilePath, \n",
    "    excelFilePath, \n",
    "    peakSheetName, \n",
    "    excelColList = excelColList, \n",
    "    tagList = tagList\n",
    ")\n"
   ]
  },
  {
   "cell_type": "markdown",
   "id": "f89b0bad",
   "metadata": {},
   "source": [
    "updateExcelFile() function\n",
    "\n",
    "updateExcelFile() is the function that allows you to import data from a CD results file into an Excel file. This function doesn't allow you to export certain data from the CD compound table (e.g. Area). If you import the Tags data into the Excel file, this function will also add new columns with the data of the individual Tags, or update those columns if they already exist. An MSI column will be added to the Excel file based on whether or not certain Tags are checked. This function also gives you the option of removing rows that have been Checked in CD. If your Excel file doesn't have a 'compoundID' column, this function will add that column (make sure you don't use compoundID for something else). Keep 'compoundID' in the Excel file to improve performance the next time you run this function."
   ]
  },
  {
   "cell_type": "code",
   "execution_count": 1,
   "id": "e5281473",
   "metadata": {
    "scrolled": false
   },
   "outputs": [
    {
     "name": "stdout",
     "output_type": "stream",
     "text": [
      "\n",
      "Importing data from C:/Users/CIMCB/Desktop/data.cdResult into C:/Users/CIMCB/Desktop/data.xlsx\n",
      "Column: MSI added to C:/Users/CIMCB/Desktop/data.xlsx\n",
      "Column: compoundID added to C:/Users/CIMCB/Desktop/data.xlsx\n",
      "Column: compoundID added to C:/Users/CIMCB/Desktop/data.cdResult\n",
      "Column: A added to C:/Users/CIMCB/Desktop/data.xlsx\n",
      "Column: B added to C:/Users/CIMCB/Desktop/data.xlsx\n",
      "Column: C added to C:/Users/CIMCB/Desktop/data.xlsx\n",
      "Column: D added to C:/Users/CIMCB/Desktop/data.xlsx\n",
      "Column: E added to C:/Users/CIMCB/Desktop/data.xlsx\n",
      "WARNING: Notes can't be found in C:/Users/CIMCB/Desktop/data.cdResult\n",
      "Column: Tags updated in C:/Users/CIMCB/Desktop/data.xlsx\n",
      "Column: Checked updated in C:/Users/CIMCB/Desktop/data.xlsx\n",
      "Dropped rows from peak sheet\n",
      "C:/Users/CIMCB/Desktop/data.xlsx updated\n"
     ]
    }
   ],
   "source": [
    "import CDExcelMessenger\n",
    "\n",
    "# Set these variables to the paths of the CD Results file and the Excel file.\n",
    "cdResultsFilePath = \"C:/Users/CIMCB/Desktop/data.cdResult\"\n",
    "excelFilePath = \"C:/Users/CIMCB/Desktop/data.xlsx\"\n",
    "\n",
    "# Set these variables to the names of your Peak sheet and Data sheet in the Excel file\n",
    "# Including the data sheet is optional\n",
    "peakSheetName = \"Peak\"\n",
    "dataSheetName = \"Data\"\n",
    "\n",
    "# List of columns in the Excel file that you would like to update. \n",
    "excelColList = [\"Tags\", \"Checked\", \"Notes\"]\n",
    "\n",
    "# Set this variable to True if you want to remove rows from the Excel file \n",
    "# that have been checked in CD (default is False)\n",
    "removeCheckedRows = True\n",
    "\n",
    "# Set this variable to True if you want to append the new sheets to the Excel file \n",
    "# (the sheet names will be given the suffix 'Appended'),\n",
    "# If you set this variable to False, your Excel sheets will get written over (default is False)\n",
    "appendSheets = True \n",
    "\n",
    "# Update the Excel file with CD compound data \n",
    "CDExcelMessenger.updateExcelFile(\n",
    "    cdResultsFilePath, \n",
    "    excelFilePath, \n",
    "    peakSheetName, \n",
    "    dataSheetName = dataSheetName,\n",
    "    excelColList = excelColList,\n",
    "    removeCheckedRows = removeCheckedRows,\n",
    "    appendSheets = appendSheets\n",
    ")\n"
   ]
  },
  {
   "cell_type": "code",
   "execution_count": null,
   "id": "63959cc0",
   "metadata": {},
   "outputs": [],
   "source": []
  }
 ],
 "metadata": {
  "kernelspec": {
   "display_name": "Python 3 (ipykernel)",
   "language": "python",
   "name": "python3"
  },
  "language_info": {
   "codemirror_mode": {
    "name": "ipython",
    "version": 3
   },
   "file_extension": ".py",
   "mimetype": "text/x-python",
   "name": "python",
   "nbconvert_exporter": "python",
   "pygments_lexer": "ipython3",
   "version": "3.9.12"
  }
 },
 "nbformat": 4,
 "nbformat_minor": 5
}
