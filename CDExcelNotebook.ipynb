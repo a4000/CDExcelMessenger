{
 "cells": [
  {
   "cell_type": "markdown",
   "id": "789abe42",
   "metadata": {},
   "source": [
    "CDExcelMessenger\n",
    "\n",
    "CDExcelMessenger is the python module that contains the functions that allow you to pass data between an Excel file and a Compound Discoverer (CD) Results file.\n",
    "\n",
    "First import CDExcelMessenger and set the 'cdResultsFilePath' and 'excelFilePath' variables to the paths of your CD Results file and Excel file. Alternatively, you can set those variables to the names of the files if the files are in your current working directory."
   ]
  },
  {
   "cell_type": "code",
   "execution_count": null,
   "id": "9c587258-4ee7-4f2a-a306-e9cb0da4c47a",
   "metadata": {},
   "outputs": [],
   "source": [
    "import CDExcelMessenger\n",
    "\n",
    "# Use os.chdir() if you would like to change the current working directory.\n",
    "#import os\n",
    "#os.chdir('C:/Users/CIMCB/Desktop')\n",
    "#print(os.getcwd())\n",
    "\n",
    "# Set these variables to the paths of the CD Results file and the Excel file.\n",
    "# You can set the variables to the file names if they are in the current working directory.\n",
    "cdResultsFilePath = \"C:/Users/CIMCB/Desktop/data.cdResult\"\n",
    "excelFilePath = \"C:/Users/CIMCB/Desktop/data.xlsx\"\n",
    "# Set this variable to the name of your compound table sheet in the Excel file\n",
    "excelSheetName = \"Peak\""
   ]
  },
  {
   "cell_type": "markdown",
   "id": "90acb351",
   "metadata": {},
   "source": [
    "\n",
    "\n",
    "updateDataInCDResultsFile(cdResultsFilePath, excelFilePath, excelSheetName)\n",
    "\n",
    "updateDataInCDResultsFile() is the function that allows you to import data from an Excel file into a CD Results file. \n",
    "\n",
    "If you want update all editable columns in the CD Results file, only pass the CD Results file and Excel file paths to updateDataInCDResultsFile(). You can pass the file names instead of the paths if the files are in the current working directory.\n",
    "The editable columns are 'Tags', 'Checked', 'Name', and any new columns that have been added to the CD Results file by CDExcelMessenger.\n",
    "\n",
    "Notes: \n",
    "- make sure the Tags column in your Excel file uses ';' as the delimiter between the Tag names (e.g. A;C;D)."
   ]
  },
  {
   "cell_type": "code",
   "execution_count": null,
   "id": "8316b0b6",
   "metadata": {},
   "outputs": [],
   "source": [
    "# Use this function to update all editable columns in the CD Results file.\n",
    "CDExcelMessenger.updateDataInCDResultsFile(cdResultsFilePath, excelFilePath, excelSheetName)"
   ]
  },
  {
   "cell_type": "markdown",
   "id": "b12d52ee",
   "metadata": {},
   "source": [
    "\n",
    "\n",
    "updateDataInCDResultsFile(cdResultsFilePath, excelFilePath, excelSheetName, updateColNameList = colNameList)\n",
    "\n",
    "updateDataInCDResultsFile() has an optional argument (optionalColNameList) that accepts a list of strings. If you use this argument, you can choose the columns that you would like to update in the CD Results file. This can include new columns in the Excel file that you would like to add to the CDResults file. This function only allows updating Tags, Checked, Name, and any user created columns. \n",
    "\n",
    "Notes: \n",
    "- make sure the Tags column in your Excel file uses ';' as the delimiter between the Tag names (e.g. A;C;D).\n"
   ]
  },
  {
   "cell_type": "code",
   "execution_count": null,
   "id": "fbc7a7bd-d2da-488b-9b33-0dae5722516a",
   "metadata": {
    "scrolled": true,
    "tags": []
   },
   "outputs": [],
   "source": [
    "# List of column names in the Excel file that you would like to update/add to the CD Results file.\n",
    "colNameList = [\"Checked\", \"Tags\", \"newCol1\", \"newCol2\", \"newCol3\", \"newCol4\"]\n",
    "\n",
    "# Use this function to update specific editable columns and to add new columns to the CD Results file.\n",
    "CDExcelMessenger.updateDataInCDResultsFile(cdResultsFilePath, excelFilePath, excelSheetName, updateColNameList = colNameList)"
   ]
  },
  {
   "cell_type": "markdown",
   "id": "c40c4d34",
   "metadata": {},
   "source": [
    "\n",
    "\n",
    "updateDataInCDResultsFile(cdResultsFilePath, excelFilePath, excelSheetName, updateColNameList = colNameList, optionalTagList = tagList)\n",
    "\n",
    "updateDataInCDResultsFile() has another optional argument (optionalTagList) that accepts a list of strings. If you use this argument, you can change the name of tags in the CD results file and update the tags based on values from columns in the Excel file. \n",
    "\n",
    "Notes: \n",
    "- make sure the strings in 'tagList' are names of columns in your Excel file that store boolean data (TRUE/FALSE values)\n",
    "- if you are using both optional argument, make sure you have included \"Tags\" in 'colNameList'\n",
    "- you can have up to 15 Tags\n",
    "- this function also sets the Tag visability based on the number of strings in 'tagList' that are boolean columns in the Excel file\n",
    "\n"
   ]
  },
  {
   "cell_type": "code",
   "execution_count": null,
   "id": "51466de8-e6f8-449b-99c9-b0779d14714b",
   "metadata": {},
   "outputs": [],
   "source": [
    "\n",
    "\n",
    "# List of column names in the Excel file that you would like to update/add to the CD Results file.\n",
    "colNameList = [\"Checked\", \"Tags\", \"newCol1\", \"newCol2\", \"newCol3\", \"newCol4\"]\n",
    "\n",
    "# List of boolean (TRUE/FALSE values) columns in the Excel file that you would like to use as the Tags in CD \n",
    "tagList = [\"newColBool1\", \"newColBool2\", \"newColBool3\", \"newColBool4\"]\n",
    "\n",
    "# Use this function to update specific editable columns and to add new columns to the CD Results file.\n",
    "CDExcelMessenger.updateDataInCDResultsFile(cdResultsFilePath, excelFilePath, excelSheetName, updateColNameList = colNameList, optionalTagList = tagList)\n",
    "\n"
   ]
  },
  {
   "cell_type": "markdown",
   "id": "4b41da86",
   "metadata": {},
   "source": [
    "\n",
    "updateDataInExcelFile(cdResultsFilePath, excelFilePath)\n",
    "\n",
    "updateDataInExcelFile() is the function that allows you to import data from a CD Results file into an Excel file. \n",
    "\n",
    "If you want update all editable columns in the CD Results file, only pass the CD Results file and Excel file paths to updateDataInExcelFile(). You can pass the file names instead of the paths if the files are in the current working directory.\n",
    "The editable columns are 'Tags', 'Checked', 'Name', and any new columns that have been added to the CD Results file by CDExcelMessenger.\n",
    "\n",
    "Notes: \n",
    "- If you change a name of a Tag in CD, that new name will be in the Excel file once the Tags column is imported into the Excel File "
   ]
  },
  {
   "cell_type": "code",
   "execution_count": null,
   "id": "9f1aa40c-da38-49af-84a0-f90117a0b9aa",
   "metadata": {},
   "outputs": [],
   "source": [
    "# Use this function to update all columns in the Excel file.\n",
    "CDExcelMessenger.updateDataInExcelFile(cdResultsFilePath, excelFilePath, excelSheetName)"
   ]
  },
  {
   "cell_type": "markdown",
   "id": "03d6be2e",
   "metadata": {},
   "source": [
    "\n",
    "updateDataInExcelFile(cdResultsFilePath, excelFilePath, updateColNameList = colNameList)\n",
    "\n",
    "updateDataInExcelFile() also has a third argument (updateColNameList) that accepts a list of strings. If you use this third argument, you can choose the columns that you would like to update in the Excel file. This function won't allow updating certain columns (e.g. P-value).\n",
    "\n",
    "Notes: \n",
    "- If you change a name of a Tag in CD, that new name will be in the Excel file once the Tags column is imported into the Excel File "
   ]
  },
  {
   "cell_type": "code",
   "execution_count": null,
   "id": "cfd59fb5",
   "metadata": {},
   "outputs": [],
   "source": [
    "# List of column names in the Excel file that you would like to update. \n",
    "colNameList = [\"Checked\", \"Tags\", \"newCol1\", \"newCol2\", \"newCol3\", \"newCol4\"]\n",
    "\n",
    "# Use this function to update specific columns in the Excel file. \n",
    "CDExcelMessenger.updateDataInExcelFile(cdResultsFilePath, excelFilePath, excelSheetName, updateColNameList = colNameList)"
   ]
  },
  {
   "cell_type": "markdown",
   "id": "f89b0bad",
   "metadata": {},
   "source": [
    "updateDataInExcelFile(cdResultsFilePath, excelFilePath, updateColNameList = colNameList, optionalTagList = tagList)\n",
    "\n",
    "updateDataInExcelFile() has another optional argument (optionalTagList) that accepts a list of strings. If you use this argument, those columns in the Excel file will be updated based on the Tags in CD.\n",
    "\n",
    "Notes: \n",
    "- make sure the strings in 'tagList' are names of columns in your Excel file that store boolean data (TRUE/FALSE values)\n",
    "- if you are using both optional argument, make sure you have included \"Tags\" in 'colNameList'\n",
    "- you can have up to 15 Tags\n"
   ]
  },
  {
   "cell_type": "code",
   "execution_count": null,
   "id": "e5281473",
   "metadata": {},
   "outputs": [],
   "source": [
    "# List of column names in the Excel file that you would like to update. \n",
    "colNameList = [\"Checked\", \"Tags\", \"newCol1\", \"newCol2\", \"newCol3\", \"newCol4\"]\n",
    "\n",
    "# List of boolean (TRUE/FALSE values) columns in the Excel file that are Tags in the CD results file \n",
    "tagList = [\"newColBool1\", \"newColBool2\", \"newColBool3\", \"newColBool4\"]\n",
    "\n",
    "# Use this function to update specific columns in the Excel file. \n",
    "CDExcelMessenger.updateDataInExcelFile(cdResultsFilePath, excelFilePath, excelSheetName, updateColNameList = colNameList, optionalTagList = tagList)"
   ]
  },
  {
   "cell_type": "code",
   "execution_count": null,
   "id": "2cb32fe8",
   "metadata": {},
   "outputs": [],
   "source": []
  }
 ],
 "metadata": {
  "kernelspec": {
   "display_name": "Python 3 (ipykernel)",
   "language": "python",
   "name": "python3"
  },
  "language_info": {
   "codemirror_mode": {
    "name": "ipython",
    "version": 3
   },
   "file_extension": ".py",
   "mimetype": "text/x-python",
   "name": "python",
   "nbconvert_exporter": "python",
   "pygments_lexer": "ipython3",
   "version": "3.9.12"
  }
 },
 "nbformat": 4,
 "nbformat_minor": 5
}
